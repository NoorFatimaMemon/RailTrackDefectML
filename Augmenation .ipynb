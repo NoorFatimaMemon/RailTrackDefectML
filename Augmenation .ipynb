{
 "cells": [
  {
   "cell_type": "code",
   "execution_count": null,
   "id": "CFBoi4YWU6mG",
   "metadata": {
    "id": "CFBoi4YWU6mG",
    "outputId": "2528851f-c760-4c9c-8a09-f3a7c221988e"
   },
   "outputs": [
    {
     "name": "stdout",
     "output_type": "stream",
     "text": [
      "Collecting Augmentor\n",
      "  Downloading Augmentor-0.2.10-py2.py3-none-any.whl (38 kB)\n",
      "Requirement already satisfied: tqdm>=4.9.0 in d:\\anaconda\\lib\\site-packages (from Augmentor) (4.47.0)\n",
      "Requirement already satisfied: future>=0.16.0 in d:\\anaconda\\lib\\site-packages (from Augmentor) (0.18.2)\n",
      "Requirement already satisfied: Pillow>=5.2.0 in d:\\anaconda\\lib\\site-packages (from Augmentor) (7.2.0)\n",
      "Requirement already satisfied: numpy>=1.11.0 in d:\\anaconda\\lib\\site-packages (from Augmentor) (1.18.5)\n",
      "Installing collected packages: Augmentor\n",
      "Successfully installed Augmentor-0.2.10\n",
      "Note: you may need to restart the kernel to use updated packages.\n"
     ]
    }
   ],
   "source": [
    "pip install Augmentor"
   ]
  },
  {
   "cell_type": "code",
   "execution_count": 1,
   "id": "LAcL-TXOU6mJ",
   "metadata": {
    "colab": {
     "base_uri": "https://localhost:8080/"
    },
    "executionInfo": {
     "elapsed": 27436,
     "status": "ok",
     "timestamp": 1684776347171,
     "user": {
      "displayName": "Noor Fatima Memon",
      "userId": "16119655353026907372"
     },
     "user_tz": -300
    },
    "id": "LAcL-TXOU6mJ",
    "outputId": "16bd96d5-1762-482a-ae4a-7f978398fab3"
   },
   "outputs": [
    {
     "name": "stdout",
     "output_type": "stream",
     "text": [
      "Mounted at /content/gdrive\n"
     ]
    }
   ],
   "source": [
    "from google.colab import drive\n",
    "drive.mount('/content/gdrive')"
   ]
  },
  {
   "cell_type": "code",
   "execution_count": null,
   "id": "-hKpclbSghFK",
   "metadata": {
    "id": "-hKpclbSghFK"
   },
   "outputs": [],
   "source": [
    "import Augmentor\n",
    "p = Augmentor.Pipeline(r\"/content/gdrive/MyDrive/data/corrugation\")\n",
    "p.rotate_without_crop(probability=0.1, max_left_rotation=180, max_right_rotation=270)\n",
    "p.flip_left_right(probability=0.1)\n",
    "p.flip_top_bottom(probability=0.1)\n",
    "p.zoom_random(1, percentage_area=0.99)\n",
    "p.random_brightness(probability=0.1, min_factor=1, max_factor=2)\n",
    "p.random_contrast(probability=0.2, min_factor=0.2, max_factor=0.3)\n",
    "p.shear(probability=1, max_shear_left=10, max_shear_right=10)\n",
    "p.sample(10)"
   ]
  },
  {
   "cell_type": "code",
   "execution_count": null,
   "id": "4d44db5c",
   "metadata": {},
   "outputs": [],
   "source": [
    "import Augmentor\n",
    "p = Augmentor.Pipeline(r\"/content/gdrive/MyDrive/data/nondefective\")\n",
    "p.rotate_without_crop(probability=0.1, max_left_rotation=180, max_right_rotation=270)\n",
    "p.flip_left_right(probability=0.1)\n",
    "p.flip_top_bottom(probability=0.1)\n",
    "p.zoom_random(1, percentage_area=0.99)\n",
    "p.random_brightness(probability=0.1, min_factor=1, max_factor=2)\n",
    "p.random_contrast(probability=0.2, min_factor=0.2, max_factor=0.3)\n",
    "p.shear(probability=1, max_shear_left=10, max_shear_right=10)\n",
    "p.sample(10)"
   ]
  },
  {
   "cell_type": "code",
   "execution_count": null,
   "id": "82ddfcbd",
   "metadata": {},
   "outputs": [],
   "source": [
    "import Augmentor\n",
    "p = Augmentor.Pipeline(r\"/content/gdrive/MyDrive/data/shelling\")\n",
    "p.rotate_without_crop(probability=0.1, max_left_rotation=180, max_right_rotation=270)\n",
    "p.flip_left_right(probability=0.1)\n",
    "p.flip_top_bottom(probability=0.1)\n",
    "p.zoom_random(1, percentage_area=0.99)\n",
    "p.random_brightness(probability=0.1, min_factor=1, max_factor=2)\n",
    "p.random_contrast(probability=0.2, min_factor=0.2, max_factor=0.3)\n",
    "p.shear(probability=1, max_shear_left=10, max_shear_right=10)\n",
    "p.sample(10)"
   ]
  },
  {
   "cell_type": "code",
   "execution_count": null,
   "id": "f923047a",
   "metadata": {},
   "outputs": [],
   "source": [
    "import Augmentor\n",
    "p = Augmentor.Pipeline(r\"/content/gdrive/MyDrive/data/flaking\")\n",
    "p.rotate_without_crop(probability=0.1, max_left_rotation=180, max_right_rotation=270)\n",
    "p.flip_left_right(probability=0.1)\n",
    "p.flip_top_bottom(probability=0.1)\n",
    "p.zoom_random(1, percentage_area=0.99)\n",
    "p.random_brightness(probability=0.1, min_factor=1, max_factor=2)\n",
    "p.random_contrast(probability=0.2, min_factor=0.2, max_factor=0.3)\n",
    "p.shear(probability=1, max_shear_left=10, max_shear_right=10)\n",
    "p.sample(10)"
   ]
  },
  {
   "cell_type": "code",
   "execution_count": null,
   "id": "d4153cdb",
   "metadata": {},
   "outputs": [],
   "source": [
    "import Augmentor\n",
    "p = Augmentor.Pipeline(r\"/content/gdrive/MyDrive/data/squats\")\n",
    "p.rotate_without_crop(probability=0.1, max_left_rotation=180, max_right_rotation=270)\n",
    "p.flip_left_right(probability=0.1)\n",
    "p.flip_top_bottom(probability=0.1)\n",
    "p.zoom_random(1, percentage_area=0.99)\n",
    "p.random_brightness(probability=0.1, min_factor=1, max_factor=2)\n",
    "p.random_contrast(probability=0.2, min_factor=0.2, max_factor=0.3)\n",
    "p.shear(probability=1, max_shear_left=10, max_shear_right=10)\n",
    "p.sample(10)"
   ]
  }
 ],
 "metadata": {
  "colab": {
   "provenance": []
  },
  "kernelspec": {
   "display_name": "Python 3",
   "language": "python",
   "name": "python3"
  },
  "language_info": {
   "codemirror_mode": {
    "name": "ipython",
    "version": 3
   },
   "file_extension": ".py",
   "mimetype": "text/x-python",
   "name": "python",
   "nbconvert_exporter": "python",
   "pygments_lexer": "ipython3",
   "version": "3.8.3"
  }
 },
 "nbformat": 4,
 "nbformat_minor": 5
}
